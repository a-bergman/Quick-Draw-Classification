{
 "cells": [
  {
   "cell_type": "markdown",
   "metadata": {},
   "source": [
    "## Imports"
   ]
  },
  {
   "cell_type": "code",
   "execution_count": 1,
   "metadata": {},
   "outputs": [
    {
     "name": "stderr",
     "output_type": "stream",
     "text": [
      "Using TensorFlow backend.\n"
     ]
    },
    {
     "data": {
      "text/html": [
       "<style>.container { width:95% !important; }</style>"
      ],
      "text/plain": [
       "<IPython.core.display.HTML object>"
      ]
     },
     "metadata": {},
     "output_type": "display_data"
    }
   ],
   "source": [
    "import boto3\n",
    "import numpy                 as np\n",
    "import pandas                as pd\n",
    "import matplotlib.pyplot     as plt\n",
    "import seaborn               as sns\n",
    "from metrics                 import confusion_matrix_dataframe, ternary_classification_summary, binary_specificity\n",
    "from sklearn.metrics         import balanced_accuracy_score, matthews_corrcoef, jaccard_score\n",
    "from sklearn.model_selection import train_test_split\n",
    "from keras                   import regularizers\n",
    "from keras.models            import Sequential\n",
    "from keras.layers            import Dense, Flatten, Dropout\n",
    "from keras.layers            import Conv2D, MaxPooling2D, BatchNormalization\n",
    "from keras.utils             import np_utils\n",
    "from keras.callbacks         import EarlyStopping, ModelCheckpoint\n",
    "from IPython.core.display    import display, HTML\n",
    "display(HTML(\"<style>.container { width:95% !important; }</style>\"))\n",
    "%matplotlib inline\n",
    "\n",
    "# Declaring a random state for the modeling process\n",
    "\n",
    "np.random.seed(42)"
   ]
  },
  {
   "cell_type": "markdown",
   "metadata": {},
   "source": [
    "## Table Of Contents\n",
    "     \n",
    " \n",
    "- [Reading In The New Data](#Reading-In-The-New-Data)\n",
    "    - [Data Overview](#Data-Overview)\n",
    "    - [Mapping Labels](#Mapping-Labels)\n",
    "    \n",
    "    \n",
    "- [Preprocessing](#Preprocessing)\n",
    "    - [Declaring X and y](#Declaring-X-and-y)    \n",
    "    - [Train-Test Splitting The Data](#Train-Test-Splitting-The-Data)\n",
    "    - [Reshaping The Data](#Reshaping-The-Data)\n",
    "    \n",
    "    \n",
    "- [Modeling](#Modeling)\n",
    "    - [Setting Up The Neural Network](#Setting-Up-The-Neural-Network)\n",
    "    - [Compiling The Neural Network](#Compiling-The-Neural-Network)\n",
    "    - [Fitting The Training Data](#Fitting-The-Training-Data)\n",
    "    - [Generating Predictions](#Generating-Predictions)\n",
    " \n",
    " \n",
    "- [Evaluation](#Evaluation)\n",
    "    - [Metrics](#Metrics)\n",
    "        - [Train](#Train)\n",
    "        - [Test](#Test)\n",
    "    - [Confusion Matrix](#Confusion-Matrix)\n",
    "    - [Graphs](#Graphs)\n",
    "        - [Model History](#Model-History)\n",
    "            - [Loss](#Loss)\n",
    "            - [Accuracy](#Accuracy)\n",
    "        - [Metrics](#Metrics)"
   ]
  },
  {
   "cell_type": "markdown",
   "metadata": {},
   "source": [
    "## Reading In The Data"
   ]
  },
  {
   "cell_type": "code",
   "execution_count": 2,
   "metadata": {
    "scrolled": true
   },
   "outputs": [],
   "source": [
    "# Reading in my credentials\n",
    "\n",
    "with open(\"access_key\", \"r\") as key:\n",
    "    access_key = key.read()\n",
    "    \n",
    "with open(\"secret_key\", \"r\") as secret:\n",
    "    secret_access_key = secret.read()\n",
    "    \n",
    "# Setting up my s3 bucket as the client instance\n",
    "    \n",
    "client = boto3.client(\"s3\", \n",
    "                      aws_access_key_id     = access_key,\n",
    "                      aws_secret_access_key = secret_access_key)\n",
    "\n",
    "# Naming the bucket and file\n",
    "\n",
    "bucket_name = \"google-quick-draw\"\n",
    "object_key  = \"animals.csv\"\n",
    "\n",
    "# Creating a csv object\n",
    "\n",
    "csv_obj = client.get_object(Bucket = bucket_name, \n",
    "                            Key    = object_key)\n",
    "\n",
    "body    = csv_obj[\"Body\"]\n",
    "\n",
    "# Reading in the data\n",
    "\n",
    "animals = pd.read_csv(body)"
   ]
  },
  {
   "cell_type": "markdown",
   "metadata": {},
   "source": [
    "### Data Overview"
   ]
  },
  {
   "cell_type": "code",
   "execution_count": 3,
   "metadata": {},
   "outputs": [
    {
     "data": {
      "text/plain": [
       "(410123, 785)"
      ]
     },
     "execution_count": 3,
     "metadata": {},
     "output_type": "execute_result"
    }
   ],
   "source": [
    "# Checking the dimensions of the dataframe\n",
    "\n",
    "animals.shape"
   ]
  },
  {
   "cell_type": "code",
   "execution_count": 4,
   "metadata": {},
   "outputs": [
    {
     "data": {
      "text/html": [
       "<div>\n",
       "<style scoped>\n",
       "    .dataframe tbody tr th:only-of-type {\n",
       "        vertical-align: middle;\n",
       "    }\n",
       "\n",
       "    .dataframe tbody tr th {\n",
       "        vertical-align: top;\n",
       "    }\n",
       "\n",
       "    .dataframe thead th {\n",
       "        text-align: right;\n",
       "    }\n",
       "</style>\n",
       "<table border=\"1\" class=\"dataframe\">\n",
       "  <thead>\n",
       "    <tr style=\"text-align: right;\">\n",
       "      <th></th>\n",
       "      <th>label</th>\n",
       "      <th>0</th>\n",
       "      <th>1</th>\n",
       "      <th>2</th>\n",
       "      <th>3</th>\n",
       "      <th>4</th>\n",
       "      <th>5</th>\n",
       "      <th>6</th>\n",
       "      <th>7</th>\n",
       "      <th>8</th>\n",
       "      <th>...</th>\n",
       "      <th>774</th>\n",
       "      <th>775</th>\n",
       "      <th>776</th>\n",
       "      <th>777</th>\n",
       "      <th>778</th>\n",
       "      <th>779</th>\n",
       "      <th>780</th>\n",
       "      <th>781</th>\n",
       "      <th>782</th>\n",
       "      <th>783</th>\n",
       "    </tr>\n",
       "  </thead>\n",
       "  <tbody>\n",
       "    <tr>\n",
       "      <th>0</th>\n",
       "      <td>bear</td>\n",
       "      <td>0</td>\n",
       "      <td>0</td>\n",
       "      <td>0</td>\n",
       "      <td>0</td>\n",
       "      <td>0</td>\n",
       "      <td>0</td>\n",
       "      <td>0</td>\n",
       "      <td>0</td>\n",
       "      <td>0</td>\n",
       "      <td>...</td>\n",
       "      <td>0</td>\n",
       "      <td>0</td>\n",
       "      <td>0</td>\n",
       "      <td>0</td>\n",
       "      <td>0</td>\n",
       "      <td>0</td>\n",
       "      <td>0</td>\n",
       "      <td>0</td>\n",
       "      <td>0</td>\n",
       "      <td>0</td>\n",
       "    </tr>\n",
       "    <tr>\n",
       "      <th>1</th>\n",
       "      <td>bear</td>\n",
       "      <td>0</td>\n",
       "      <td>0</td>\n",
       "      <td>0</td>\n",
       "      <td>0</td>\n",
       "      <td>0</td>\n",
       "      <td>0</td>\n",
       "      <td>0</td>\n",
       "      <td>0</td>\n",
       "      <td>0</td>\n",
       "      <td>...</td>\n",
       "      <td>0</td>\n",
       "      <td>0</td>\n",
       "      <td>0</td>\n",
       "      <td>0</td>\n",
       "      <td>0</td>\n",
       "      <td>0</td>\n",
       "      <td>0</td>\n",
       "      <td>0</td>\n",
       "      <td>0</td>\n",
       "      <td>0</td>\n",
       "    </tr>\n",
       "    <tr>\n",
       "      <th>2</th>\n",
       "      <td>bear</td>\n",
       "      <td>0</td>\n",
       "      <td>0</td>\n",
       "      <td>0</td>\n",
       "      <td>0</td>\n",
       "      <td>0</td>\n",
       "      <td>0</td>\n",
       "      <td>0</td>\n",
       "      <td>0</td>\n",
       "      <td>0</td>\n",
       "      <td>...</td>\n",
       "      <td>0</td>\n",
       "      <td>0</td>\n",
       "      <td>0</td>\n",
       "      <td>0</td>\n",
       "      <td>0</td>\n",
       "      <td>0</td>\n",
       "      <td>0</td>\n",
       "      <td>0</td>\n",
       "      <td>0</td>\n",
       "      <td>0</td>\n",
       "    </tr>\n",
       "    <tr>\n",
       "      <th>3</th>\n",
       "      <td>bear</td>\n",
       "      <td>0</td>\n",
       "      <td>0</td>\n",
       "      <td>0</td>\n",
       "      <td>0</td>\n",
       "      <td>0</td>\n",
       "      <td>0</td>\n",
       "      <td>0</td>\n",
       "      <td>0</td>\n",
       "      <td>0</td>\n",
       "      <td>...</td>\n",
       "      <td>0</td>\n",
       "      <td>0</td>\n",
       "      <td>0</td>\n",
       "      <td>0</td>\n",
       "      <td>0</td>\n",
       "      <td>0</td>\n",
       "      <td>0</td>\n",
       "      <td>0</td>\n",
       "      <td>0</td>\n",
       "      <td>0</td>\n",
       "    </tr>\n",
       "    <tr>\n",
       "      <th>4</th>\n",
       "      <td>bear</td>\n",
       "      <td>0</td>\n",
       "      <td>0</td>\n",
       "      <td>0</td>\n",
       "      <td>0</td>\n",
       "      <td>0</td>\n",
       "      <td>0</td>\n",
       "      <td>0</td>\n",
       "      <td>0</td>\n",
       "      <td>0</td>\n",
       "      <td>...</td>\n",
       "      <td>0</td>\n",
       "      <td>0</td>\n",
       "      <td>0</td>\n",
       "      <td>0</td>\n",
       "      <td>0</td>\n",
       "      <td>0</td>\n",
       "      <td>0</td>\n",
       "      <td>0</td>\n",
       "      <td>0</td>\n",
       "      <td>0</td>\n",
       "    </tr>\n",
       "  </tbody>\n",
       "</table>\n",
       "<p>5 rows × 785 columns</p>\n",
       "</div>"
      ],
      "text/plain": [
       "  label  0  1  2  3  4  5  6  7  8  ...  774  775  776  777  778  779  780  \\\n",
       "0  bear  0  0  0  0  0  0  0  0  0  ...    0    0    0    0    0    0    0   \n",
       "1  bear  0  0  0  0  0  0  0  0  0  ...    0    0    0    0    0    0    0   \n",
       "2  bear  0  0  0  0  0  0  0  0  0  ...    0    0    0    0    0    0    0   \n",
       "3  bear  0  0  0  0  0  0  0  0  0  ...    0    0    0    0    0    0    0   \n",
       "4  bear  0  0  0  0  0  0  0  0  0  ...    0    0    0    0    0    0    0   \n",
       "\n",
       "   781  782  783  \n",
       "0    0    0    0  \n",
       "1    0    0    0  \n",
       "2    0    0    0  \n",
       "3    0    0    0  \n",
       "4    0    0    0  \n",
       "\n",
       "[5 rows x 785 columns]"
      ]
     },
     "execution_count": 4,
     "metadata": {},
     "output_type": "execute_result"
    }
   ],
   "source": [
    "# Looking at the head five rows\n",
    "\n",
    "animals.head()"
   ]
  },
  {
   "cell_type": "code",
   "execution_count": 5,
   "metadata": {},
   "outputs": [
    {
     "name": "stdout",
     "output_type": "stream",
     "text": [
      "<class 'pandas.core.frame.DataFrame'>\n",
      "RangeIndex: 410123 entries, 0 to 410122\n",
      "Columns: 785 entries, label to 783\n",
      "dtypes: int64(784), object(1)\n",
      "memory usage: 2.4+ GB\n"
     ]
    }
   ],
   "source": [
    "animals.info()"
   ]
  },
  {
   "cell_type": "code",
   "execution_count": 6,
   "metadata": {},
   "outputs": [
    {
     "data": {
      "text/plain": [
       "0"
      ]
     },
     "execution_count": 6,
     "metadata": {},
     "output_type": "execute_result"
    }
   ],
   "source": [
    "# Looking for null values\n",
    "\n",
    "animals.isnull().sum().sum()"
   ]
  },
  {
   "cell_type": "markdown",
   "metadata": {},
   "source": [
    "### Mapping Labels"
   ]
  },
  {
   "cell_type": "markdown",
   "metadata": {},
   "source": [
    "Our labels are strings, but we need them to be integers for modeling.  To make them strings, we will use a simple `.replace()` to change them in place."
   ]
  },
  {
   "cell_type": "code",
   "execution_count": 7,
   "metadata": {},
   "outputs": [
    {
     "data": {
      "text/plain": [
       "dtype('int64')"
      ]
     },
     "execution_count": 7,
     "metadata": {},
     "output_type": "execute_result"
    }
   ],
   "source": [
    "animals[\"label\"].replace(to_replace = {\"bear\": 0,\n",
    "                                       \"cat\" : 1,\n",
    "                                       \"dog\" : 2},\n",
    "                         inplace    = True)\n",
    "\n",
    "# Making sure the labels are integers\n",
    "\n",
    "animals[\"label\"].dtype"
   ]
  },
  {
   "cell_type": "markdown",
   "metadata": {},
   "source": [
    "## Preprocessing"
   ]
  },
  {
   "cell_type": "markdown",
   "metadata": {},
   "source": [
    "### Declaring X and y"
   ]
  },
  {
   "cell_type": "code",
   "execution_count": 8,
   "metadata": {},
   "outputs": [],
   "source": [
    "# X variable\n",
    "\n",
    "X = np.array(animals.drop(columns = \"label\")) \n",
    "\n",
    "# y variable\n",
    "\n",
    "y = animals[\"label\"].values"
   ]
  },
  {
   "cell_type": "markdown",
   "metadata": {},
   "source": [
    "### Train-Test Splitting The Data"
   ]
  },
  {
   "cell_type": "code",
   "execution_count": 9,
   "metadata": {},
   "outputs": [],
   "source": [
    "# We are setting a random state for reproducability\n",
    "\n",
    "X_train, X_test, y_train, y_test = train_test_split(X, \n",
    "                                                    y, \n",
    "                                                    random_state = 42, \n",
    "                                                    test_size    = 0.3)\n",
    "\n",
    "# Keeping copies of the original labels\n",
    "\n",
    "y_train_org = y_train\n",
    "\n",
    "y_test_org  = y_test"
   ]
  },
  {
   "cell_type": "code",
   "execution_count": 10,
   "metadata": {},
   "outputs": [],
   "source": [
    "# Scaling each X value\n",
    "\n",
    "X_train = X_train.astype(float)\n",
    "X_train /= 255\n",
    "\n",
    "X_test  = X_test.astype(float)\n",
    "X_test  /= 255\n",
    "\n",
    "# Making sure the y variables are categorical\n",
    "\n",
    "y_train = np_utils.to_categorical(y_train, 3)\n",
    "\n",
    "y_test  = np_utils.to_categorical(y_test, 3)"
   ]
  },
  {
   "cell_type": "markdown",
   "metadata": {},
   "source": [
    "### Reshaping The Data"
   ]
  },
  {
   "cell_type": "code",
   "execution_count": 11,
   "metadata": {},
   "outputs": [
    {
     "name": "stdout",
     "output_type": "stream",
     "text": [
      "X_train's data type is <class 'numpy.ndarray'>\n",
      "X_test's data type is <class 'numpy.ndarray'>\n"
     ]
    }
   ],
   "source": [
    "X_train = X_train.reshape(X_train.shape[0], 28, 28, 1)\n",
    "\n",
    "X_test  = X_test.reshape(X_test.shape[0], 28, 28, 1)\n",
    "\n",
    "# Checking the data type of the train and test sets\n",
    "\n",
    "print(f\"X_train's data type is {type(X_train)}\")\n",
    "\n",
    "print(f\"X_test's data type is {type(X_test)}\")"
   ]
  },
  {
   "cell_type": "markdown",
   "metadata": {},
   "source": [
    "## Modeling"
   ]
  },
  {
   "cell_type": "markdown",
   "metadata": {},
   "source": [
    "### Setting Up The Neural Network"
   ]
  },
  {
   "cell_type": "markdown",
   "metadata": {},
   "source": [
    "#### Instantiating The Model"
   ]
  },
  {
   "cell_type": "code",
   "execution_count": 12,
   "metadata": {},
   "outputs": [
    {
     "name": "stderr",
     "output_type": "stream",
     "text": [
      "WARNING: Logging before flag parsing goes to stderr.\n",
      "W1031 18:20:10.368686 139898692495168 deprecation_wrapper.py:119] From /home/ec2-user/anaconda3/envs/tensorflow_p36/lib/python3.6/site-packages/keras/backend/tensorflow_backend.py:74: The name tf.get_default_graph is deprecated. Please use tf.compat.v1.get_default_graph instead.\n",
      "\n"
     ]
    }
   ],
   "source": [
    "cnn = Sequential()"
   ]
  },
  {
   "cell_type": "markdown",
   "metadata": {},
   "source": [
    "#### Adding Layers"
   ]
  },
  {
   "cell_type": "markdown",
   "metadata": {},
   "source": [
    "The first portion of our convolutional neural network is composed of two types of layers: convolutional and maxpooling layers.\n",
    "\n",
    "\n",
    "- Convolutional layers are what set convolutional neural networks apart from a feed-forward or recurrent neural network.  The convolutional componant uses a linear operation to reduce a full image into a feature map.\n",
    "\n",
    "\n",
    "- Maxpooling down-samples the output from the convolution into smaller (usually non-overlapping) grids and takes the highest value from each grid."
   ]
  },
  {
   "cell_type": "code",
   "execution_count": 13,
   "metadata": {},
   "outputs": [
    {
     "name": "stderr",
     "output_type": "stream",
     "text": [
      "W1031 18:20:10.402203 139898692495168 deprecation_wrapper.py:119] From /home/ec2-user/anaconda3/envs/tensorflow_p36/lib/python3.6/site-packages/keras/backend/tensorflow_backend.py:517: The name tf.placeholder is deprecated. Please use tf.compat.v1.placeholder instead.\n",
      "\n",
      "W1031 18:20:10.406032 139898692495168 deprecation_wrapper.py:119] From /home/ec2-user/anaconda3/envs/tensorflow_p36/lib/python3.6/site-packages/keras/backend/tensorflow_backend.py:4138: The name tf.random_uniform is deprecated. Please use tf.random.uniform instead.\n",
      "\n",
      "W1031 18:20:10.427090 139898692495168 deprecation_wrapper.py:119] From /home/ec2-user/anaconda3/envs/tensorflow_p36/lib/python3.6/site-packages/keras/backend/tensorflow_backend.py:3976: The name tf.nn.max_pool is deprecated. Please use tf.nn.max_pool2d instead.\n",
      "\n"
     ]
    }
   ],
   "source": [
    "# Convolutional layers\n",
    "\n",
    "# The first convolutional layer\n",
    "\n",
    "cnn.add(Conv2D(filters     = 7,\n",
    "               kernel_size = 4,\n",
    "               activation  = \"relu\",\n",
    "               input_shape = (28,28,1)))\n",
    "\n",
    "# The first maxpooling layer\n",
    "\n",
    "cnn.add(MaxPooling2D(pool_size = (2,2)))\n",
    "\n",
    "# The second convolutional layer\n",
    "\n",
    "cnn.add(Conv2D(256,\n",
    "               kernel_size = 4,\n",
    "               activation  = \"relu\"))\n",
    "\n",
    "# The second maxpooling layer\n",
    "\n",
    "cnn.add(MaxPooling2D(pool_size = (2,2)))\n"
   ]
  },
  {
   "cell_type": "markdown",
   "metadata": {},
   "source": [
    "The second portion of our neural network is a little more complicated: it incorporates flattening, dense layers, batch normalization, and dropout.\n",
    "\n",
    "\n",
    "- Flattening simply decomposes the processed images into a format that can be passed into the dense layers.\n",
    "\n",
    "\n",
    "- Dense here are the same as in any other neural network.  Each node here contains $\\ell$<sub>2</sub> regularization to help reduce overfitting.\n",
    "\n",
    "\n",
    "- Batch normalization is a normlization method to reduce the shifting of outputs from each hidden layer.\n",
    "\n",
    "\n",
    "- Dropout is another regularizaton technique that helps reduce overfitting by ignoring the output from a certain number of neurons."
   ]
  },
  {
   "cell_type": "code",
   "execution_count": 14,
   "metadata": {},
   "outputs": [
    {
     "name": "stderr",
     "output_type": "stream",
     "text": [
      "W1031 18:20:10.567629 139898692495168 deprecation_wrapper.py:119] From /home/ec2-user/anaconda3/envs/tensorflow_p36/lib/python3.6/site-packages/keras/backend/tensorflow_backend.py:133: The name tf.placeholder_with_default is deprecated. Please use tf.compat.v1.placeholder_with_default instead.\n",
      "\n",
      "W1031 18:20:10.590364 139898692495168 deprecation.py:506] From /home/ec2-user/anaconda3/envs/tensorflow_p36/lib/python3.6/site-packages/keras/backend/tensorflow_backend.py:3445: calling dropout (from tensorflow.python.ops.nn_ops) with keep_prob is deprecated and will be removed in a future version.\n",
      "Instructions for updating:\n",
      "Please use `rate` instead of `keep_prob`. Rate should be set to `rate = 1 - keep_prob`.\n",
      "W1031 18:20:10.591433 139898692495168 nn_ops.py:4224] Large dropout rate: 0.8 (>0.5). In TensorFlow 2.x, dropout() uses dropout rate instead of keep_prob. Please ensure that this is intended.\n",
      "W1031 18:20:10.706284 139898692495168 nn_ops.py:4224] Large dropout rate: 0.8 (>0.5). In TensorFlow 2.x, dropout() uses dropout rate instead of keep_prob. Please ensure that this is intended.\n"
     ]
    }
   ],
   "source": [
    "# Dense layers\n",
    "\n",
    "# Flattening the data\n",
    "\n",
    "cnn.add(Flatten())\n",
    "\n",
    "# Adding the first dense layer\n",
    "\n",
    "cnn.add(Dense(128,\n",
    "              activation         = \"relu\",\n",
    "              kernel_regularizer = regularizers.l2(0.001)))\n",
    "\n",
    "# Adding batch normalization\n",
    "\n",
    "cnn.add(BatchNormalization())\n",
    "\n",
    "# Adding the first dropout\n",
    "\n",
    "cnn.add(Dropout(rate = 0.8))\n",
    "\n",
    "# Adding the second dense layer\n",
    "\n",
    "cnn.add(Dense(64,\n",
    "              activation         = \"relu\",\n",
    "              kernel_regularizer = regularizers.l2(0.001)))\n",
    "\n",
    "# Adding batch normalization\n",
    "\n",
    "cnn.add(BatchNormalization())\n",
    "                \n",
    "# Adding second dropout\n",
    "\n",
    "cnn.add(Dropout(rate = 0.8))\n",
    "\n",
    "# Adding the ouput layer\n",
    "\n",
    "cnn.add(Dense(3,\n",
    "              activation = \"softmax\"))"
   ]
  },
  {
   "cell_type": "markdown",
   "metadata": {},
   "source": [
    "### Compiling The Neural Network"
   ]
  },
  {
   "cell_type": "code",
   "execution_count": 15,
   "metadata": {},
   "outputs": [
    {
     "name": "stderr",
     "output_type": "stream",
     "text": [
      "W1031 18:20:10.737524 139898692495168 deprecation_wrapper.py:119] From /home/ec2-user/anaconda3/envs/tensorflow_p36/lib/python3.6/site-packages/keras/optimizers.py:790: The name tf.train.Optimizer is deprecated. Please use tf.compat.v1.train.Optimizer instead.\n",
      "\n",
      "W1031 18:20:10.761144 139898692495168 deprecation_wrapper.py:119] From /home/ec2-user/anaconda3/envs/tensorflow_p36/lib/python3.6/site-packages/keras/backend/tensorflow_backend.py:3295: The name tf.log is deprecated. Please use tf.math.log instead.\n",
      "\n"
     ]
    }
   ],
   "source": [
    "cnn.compile(loss      = \"categorical_crossentropy\",\n",
    "            optimizer = \"adam\",\n",
    "            metrics   = [\"acc\"])"
   ]
  },
  {
   "cell_type": "markdown",
   "metadata": {},
   "source": [
    "### Fitting The Training Data"
   ]
  },
  {
   "cell_type": "markdown",
   "metadata": {},
   "source": [
    "We decided to add a third regularization technique to our model: early stopping.\n",
    "\n",
    "Early stopping allows us to run our model for the number of epochs we want, but it will stop training once it detects that performance is not improving."
   ]
  },
  {
   "cell_type": "code",
   "execution_count": 16,
   "metadata": {},
   "outputs": [],
   "source": [
    "# Defining our callback\n",
    "\n",
    "callback = [EarlyStopping(monitor  = 'val_loss', \n",
    "                          patience = 1,\n",
    "                          verbose  = 0)]"
   ]
  },
  {
   "cell_type": "code",
   "execution_count": 17,
   "metadata": {},
   "outputs": [
    {
     "name": "stderr",
     "output_type": "stream",
     "text": [
      "W1031 18:20:10.898453 139898692495168 deprecation.py:323] From /home/ec2-user/anaconda3/envs/tensorflow_p36/lib/python3.6/site-packages/tensorflow/python/ops/math_grad.py:1250: add_dispatch_support.<locals>.wrapper (from tensorflow.python.ops.array_ops) is deprecated and will be removed in a future version.\n",
      "Instructions for updating:\n",
      "Use tf.where in 2.0, which has the same broadcast rule as np.where\n"
     ]
    }
   ],
   "source": [
    "history = cnn.fit(X_train,\n",
    "                  y_train,\n",
    "                  callbacks       = callback,\n",
    "                  validation_data = (X_train, y_train),\n",
    "                  batch_size      = 512,\n",
    "                  epochs          = 75,\n",
    "                  verbose         = 0)"
   ]
  },
  {
   "cell_type": "markdown",
   "metadata": {},
   "source": [
    "### Generating Predictions"
   ]
  },
  {
   "cell_type": "code",
   "execution_count": 18,
   "metadata": {},
   "outputs": [],
   "source": [
    "# Training predictions\n",
    "\n",
    "train_preds = cnn.predict_classes(X_train,\n",
    "                                  batch_size = 256,\n",
    "                                  verbose    = 0).ravel()\n",
    "\n",
    "# Test predictions\n",
    "\n",
    "test_preds = cnn.predict_classes(X_test,\n",
    "                                 batch_size = 256,\n",
    "                                 verbose    = 0).ravel()"
   ]
  },
  {
   "cell_type": "markdown",
   "metadata": {},
   "source": [
    "## Evaluation"
   ]
  },
  {
   "cell_type": "markdown",
   "metadata": {},
   "source": [
    "We decided to use five metrics to evaluate our model's perofrmance:\n",
    "\n",
    "\n",
    "| Metric                               | Definition                                                                                     | Scale   |\n",
    "|:-------------------------------------|:-----------------------------------------------------------------------------------------------|:-------:|\n",
    "| **Balanced Accuracy**                | Average of the recall (percentage of correct positives) for each class                         | 0 to 1  |\n",
    "| **Specificity**                      | Average of the percentage of correct negatives for each class                                  | 0 to 1  |\n",
    "| **Matthews Correlation Coefficient** | Measure of a classifier's quality: measures the correlation between actual & predicted labels  | -1 to 1 |\n",
    "| **Jaccard Score**                    | A measure  of how often each class appears in each set                                         | 0 to 1  |"
   ]
  },
  {
   "cell_type": "markdown",
   "metadata": {},
   "source": [
    "### Metrics"
   ]
  },
  {
   "cell_type": "markdown",
   "metadata": {},
   "source": [
    "#### Train"
   ]
  },
  {
   "cell_type": "code",
   "execution_count": 19,
   "metadata": {},
   "outputs": [
    {
     "data": {
      "text/html": [
       "<div>\n",
       "<style scoped>\n",
       "    .dataframe tbody tr th:only-of-type {\n",
       "        vertical-align: middle;\n",
       "    }\n",
       "\n",
       "    .dataframe tbody tr th {\n",
       "        vertical-align: top;\n",
       "    }\n",
       "\n",
       "    .dataframe thead th {\n",
       "        text-align: right;\n",
       "    }\n",
       "</style>\n",
       "<table border=\"1\" class=\"dataframe\">\n",
       "  <thead>\n",
       "    <tr style=\"text-align: right;\">\n",
       "      <th></th>\n",
       "      <th>Score</th>\n",
       "    </tr>\n",
       "  </thead>\n",
       "  <tbody>\n",
       "    <tr>\n",
       "      <th>Balanced Accuracy</th>\n",
       "      <td>0.837570</td>\n",
       "    </tr>\n",
       "    <tr>\n",
       "      <th>Specificity</th>\n",
       "      <td>0.821076</td>\n",
       "    </tr>\n",
       "    <tr>\n",
       "      <th>Matthews Corr. Coef.</th>\n",
       "      <td>0.760768</td>\n",
       "    </tr>\n",
       "    <tr>\n",
       "      <th>Jaccard Score</th>\n",
       "      <td>0.727193</td>\n",
       "    </tr>\n",
       "  </tbody>\n",
       "</table>\n",
       "</div>"
      ],
      "text/plain": [
       "                         Score\n",
       "Balanced Accuracy     0.837570\n",
       "Specificity           0.821076\n",
       "Matthews Corr. Coef.  0.760768\n",
       "Jaccard Score         0.727193"
      ]
     },
     "execution_count": 19,
     "metadata": {},
     "output_type": "execute_result"
    }
   ],
   "source": [
    "ternary_classification_summary(y_train_org, train_preds)"
   ]
  },
  {
   "cell_type": "markdown",
   "metadata": {},
   "source": [
    "#### Test"
   ]
  },
  {
   "cell_type": "code",
   "execution_count": 20,
   "metadata": {},
   "outputs": [
    {
     "data": {
      "text/html": [
       "<div>\n",
       "<style scoped>\n",
       "    .dataframe tbody tr th:only-of-type {\n",
       "        vertical-align: middle;\n",
       "    }\n",
       "\n",
       "    .dataframe tbody tr th {\n",
       "        vertical-align: top;\n",
       "    }\n",
       "\n",
       "    .dataframe thead th {\n",
       "        text-align: right;\n",
       "    }\n",
       "</style>\n",
       "<table border=\"1\" class=\"dataframe\">\n",
       "  <thead>\n",
       "    <tr style=\"text-align: right;\">\n",
       "      <th></th>\n",
       "      <th>Score</th>\n",
       "    </tr>\n",
       "  </thead>\n",
       "  <tbody>\n",
       "    <tr>\n",
       "      <th>Balanced Accuracy</th>\n",
       "      <td>0.829109</td>\n",
       "    </tr>\n",
       "    <tr>\n",
       "      <th>Specificity</th>\n",
       "      <td>0.812207</td>\n",
       "    </tr>\n",
       "    <tr>\n",
       "      <th>Matthews Corr. Coef.</th>\n",
       "      <td>0.748079</td>\n",
       "    </tr>\n",
       "    <tr>\n",
       "      <th>Jaccard Score</th>\n",
       "      <td>0.714552</td>\n",
       "    </tr>\n",
       "  </tbody>\n",
       "</table>\n",
       "</div>"
      ],
      "text/plain": [
       "                         Score\n",
       "Balanced Accuracy     0.829109\n",
       "Specificity           0.812207\n",
       "Matthews Corr. Coef.  0.748079\n",
       "Jaccard Score         0.714552"
      ]
     },
     "execution_count": 20,
     "metadata": {},
     "output_type": "execute_result"
    }
   ],
   "source": [
    "ternary_classification_summary(y_test_org, test_preds)"
   ]
  },
  {
   "cell_type": "code",
   "execution_count": 21,
   "metadata": {},
   "outputs": [
    {
     "data": {
      "text/html": [
       "<div>\n",
       "<style scoped>\n",
       "    .dataframe tbody tr th:only-of-type {\n",
       "        vertical-align: middle;\n",
       "    }\n",
       "\n",
       "    .dataframe tbody tr th {\n",
       "        vertical-align: top;\n",
       "    }\n",
       "\n",
       "    .dataframe thead th {\n",
       "        text-align: right;\n",
       "    }\n",
       "</style>\n",
       "<table border=\"1\" class=\"dataframe\">\n",
       "  <thead>\n",
       "    <tr style=\"text-align: right;\">\n",
       "      <th></th>\n",
       "      <th>Score</th>\n",
       "    </tr>\n",
       "  </thead>\n",
       "  <tbody>\n",
       "    <tr>\n",
       "      <th>Balanced Accuracy</th>\n",
       "      <td>0.829109</td>\n",
       "    </tr>\n",
       "    <tr>\n",
       "      <th>Specificity</th>\n",
       "      <td>0.812207</td>\n",
       "    </tr>\n",
       "    <tr>\n",
       "      <th>Matthews Corr. Coef.</th>\n",
       "      <td>0.748079</td>\n",
       "    </tr>\n",
       "    <tr>\n",
       "      <th>Jaccard Score</th>\n",
       "      <td>0.714552</td>\n",
       "    </tr>\n",
       "  </tbody>\n",
       "</table>\n",
       "</div>"
      ],
      "text/plain": [
       "                         Score\n",
       "Balanced Accuracy     0.829109\n",
       "Specificity           0.812207\n",
       "Matthews Corr. Coef.  0.748079\n",
       "Jaccard Score         0.714552"
      ]
     },
     "execution_count": 21,
     "metadata": {},
     "output_type": "execute_result"
    }
   ],
   "source": [
    "# Saving a copy of the test dataframe to plot\n",
    "\n",
    "scores = ternary_classification_summary(y_test_org, test_preds)\n",
    "\n",
    "scores"
   ]
  },
  {
   "cell_type": "markdown",
   "metadata": {},
   "source": [
    "### Confusion Matrix"
   ]
  },
  {
   "cell_type": "code",
   "execution_count": 22,
   "metadata": {},
   "outputs": [
    {
     "data": {
      "text/html": [
       "<div>\n",
       "<style scoped>\n",
       "    .dataframe tbody tr th:only-of-type {\n",
       "        vertical-align: middle;\n",
       "    }\n",
       "\n",
       "    .dataframe tbody tr th {\n",
       "        vertical-align: top;\n",
       "    }\n",
       "\n",
       "    .dataframe thead th {\n",
       "        text-align: right;\n",
       "    }\n",
       "</style>\n",
       "<table border=\"1\" class=\"dataframe\">\n",
       "  <thead>\n",
       "    <tr style=\"text-align: right;\">\n",
       "      <th></th>\n",
       "      <th>Bear</th>\n",
       "      <th>Cat</th>\n",
       "      <th>Dog</th>\n",
       "    </tr>\n",
       "  </thead>\n",
       "  <tbody>\n",
       "    <tr>\n",
       "      <th>Bear</th>\n",
       "      <td>34107</td>\n",
       "      <td>735</td>\n",
       "      <td>5515</td>\n",
       "    </tr>\n",
       "    <tr>\n",
       "      <th>Cat</th>\n",
       "      <td>2422</td>\n",
       "      <td>28955</td>\n",
       "      <td>5820</td>\n",
       "    </tr>\n",
       "    <tr>\n",
       "      <th>Dog</th>\n",
       "      <td>4542</td>\n",
       "      <td>1654</td>\n",
       "      <td>39287</td>\n",
       "    </tr>\n",
       "  </tbody>\n",
       "</table>\n",
       "</div>"
      ],
      "text/plain": [
       "       Bear    Cat    Dog\n",
       "Bear  34107    735   5515\n",
       "Cat    2422  28955   5820\n",
       "Dog    4542   1654  39287"
      ]
     },
     "execution_count": 22,
     "metadata": {},
     "output_type": "execute_result"
    }
   ],
   "source": [
    "confusion_matrix_dataframe(y_test_org,\n",
    "                           test_preds,\n",
    "                           columns = [\"Bear\", \"Cat\", \"Dog\"],\n",
    "                           index   = [\"Bear\", \"Cat\", \"Dog\"])"
   ]
  },
  {
   "cell_type": "markdown",
   "metadata": {},
   "source": [
    "### Graphs"
   ]
  },
  {
   "cell_type": "markdown",
   "metadata": {},
   "source": [
    "#### Loss"
   ]
  },
  {
   "cell_type": "code",
   "execution_count": 23,
   "metadata": {},
   "outputs": [
    {
     "data": {
      "image/png": "[encoded data removed]",
      "text/plain": [
       "<Figure size 1296x432 with 1 Axes>"
      ]
     },
     "metadata": {},
     "output_type": "display_data"
    }
   ],
   "source": [
    "plt.figure(figsize = (18,6), facecolor = \"white\")\n",
    "plt.plot(history.history['loss'], label = 'Train Loss', color = \"darkorange\")\n",
    "plt.plot(history.history['val_loss'], label = 'Val. Loss', color = \"navy\")\n",
    "plt.title(\"Model Loss\", size = 20)\n",
    "plt.xlabel(\"Epoch\", size = 18)\n",
    "plt.ylabel(\"Loss\", size = 18)\n",
    "plt.legend([\"Train\", \"Test\"],bbox_to_anchor = (1.04, 1), loc = \"upper left\", fontsize = 16);"
   ]
  },
  {
   "cell_type": "markdown",
   "metadata": {},
   "source": [
    "#### Accuracy"
   ]
  },
  {
   "cell_type": "code",
   "execution_count": 24,
   "metadata": {},
   "outputs": [
    {
     "data": {
      "image/png": "[encoded data removed]",
      "text/plain": [
       "<Figure size 1296x432 with 1 Axes>"
      ]
     },
     "metadata": {},
     "output_type": "display_data"
    }
   ],
   "source": [
    "plt.figure(figsize = (18,6), facecolor = \"white\")\n",
    "plt.plot(history.history['acc'], label = 'Train Acc', color = \"darkorange\")\n",
    "plt.plot(history.history['val_acc'], label = 'Val. Acc.', color = \"navy\")\n",
    "plt.title(\"Model Accuracy\", size = 20)\n",
    "plt.xlabel(\"Epoch\", size = 18)\n",
    "plt.ylabel(\"Acc\", size = 18)\n",
    "plt.legend([\"Train\", \"Test\"], bbox_to_anchor = (1.04, 1), loc = \"upper left\", fontsize = 16);"
   ]
  },
  {
   "cell_type": "markdown",
   "metadata": {},
   "source": [
    "### Metrics"
   ]
  },
  {
   "cell_type": "code",
   "execution_count": 25,
   "metadata": {},
   "outputs": [
    {
     "data": {
      "image/png": "[encoded data removed]",
      "text/plain": [
       "<Figure size 1152x432 with 1 Axes>"
      ]
     },
     "metadata": {},
     "output_type": "display_data"
    }
   ],
   "source": [
    "plt.figure(figsize = (16,6), facecolor = \"white\")\n",
    "sns.barplot(x = scores.index, y = \"Score\", data = scores)\n",
    "plt.title(\"Metric Scores\", size = 20)\n",
    "plt.xlabel(\"Metric\", size = 18)\n",
    "plt.ylabel(\"Score\", size = 18)\n",
    "plt.xticks(size = 16)\n",
    "plt.yticks(np.arange(0,1.1,0.1), size = 16);"
   ]
  },
  {
   "cell_type": "markdown",
   "metadata": {},
   "source": [
    "[Top](#Table-Of-Contents)"
   ]
  }
 ],
 "metadata": {
  "kernelspec": {
   "display_name": "conda_tensorflow_p36",
   "language": "python",
   "name": "conda_tensorflow_p36"
  },
  "language_info": {
   "codemirror_mode": {
    "name": "ipython",
    "version": 3
   },
   "file_extension": ".py",
   "mimetype": "text/x-python",
   "name": "python",
   "nbconvert_exporter": "python",
   "pygments_lexer": "ipython3",
   "version": "3.6.5"
  }
 },
 "nbformat": 4,
 "nbformat_minor": 2
}
