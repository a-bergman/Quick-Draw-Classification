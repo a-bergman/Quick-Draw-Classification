{
 "cells": [
  {
   "cell_type": "markdown",
   "metadata": {},
   "source": [
    "## Imports"
   ]
  },
  {
   "cell_type": "code",
   "execution_count": 1,
   "metadata": {},
   "outputs": [
    {
     "name": "stdout",
     "output_type": "stream",
     "text": [
      "Collecting pycm\n",
      "\u001b[?25l  Downloading https://files.pythonhosted.org/packages/cb/0b/da5b285528def59a12a4b39ed9cc7d0fd45ae8d64d81a4eeec2450c1510d/pycm-2.5-py2.py3-none-any.whl (52kB)\n",
      "\u001b[K    100% |████████████████████████████████| 61kB 2.6MB/s ta 0:00:011\n",
      "\u001b[?25hRequirement already satisfied: numpy>=1.9.0 in /home/ec2-user/anaconda3/envs/tensorflow_p36/lib/python3.6/site-packages (from pycm) (1.16.4)\n",
      "Collecting art>=1.8 (from pycm)\n",
      "\u001b[?25l  Downloading https://files.pythonhosted.org/packages/07/81/9fbf7514d8f22098c94ac429ce45db5034146d09665b4643adbe0978932b/art-4.1-py2.py3-none-any.whl (505kB)\n",
      "\u001b[K    100% |████████████████████████████████| 512kB 10.9MB/s ta 0:00:01\n",
      "\u001b[?25hCollecting coverage>=4.1 (from art>=1.8->pycm)\n",
      "\u001b[?25l  Downloading https://files.pythonhosted.org/packages/51/b1/13609068fff1c8c056f0c4601ad6985cf5c1bbfc529196ab08bd2a57dc39/coverage-4.5.4-cp36-cp36m-manylinux1_x86_64.whl (205kB)\n",
      "\u001b[K    100% |████████████████████████████████| 215kB 36.7MB/s ta 0:00:01\n",
      "\u001b[?25hInstalling collected packages: coverage, art, pycm\n",
      "Successfully installed art-4.1 coverage-4.5.4 pycm-2.5\n",
      "\u001b[33mYou are using pip version 10.0.1, however version 19.3.1 is available.\n",
      "You should consider upgrading via the 'pip install --upgrade pip' command.\u001b[0m\n"
     ]
    }
   ],
   "source": [
    "!pip install pycm"
   ]
  },
  {
   "cell_type": "code",
   "execution_count": 2,
   "metadata": {},
   "outputs": [
    {
     "name": "stderr",
     "output_type": "stream",
     "text": [
      "Using TensorFlow backend.\n"
     ]
    },
    {
     "data": {
      "text/html": [
       "<style>.container { width:95% !important; }</style>"
      ],
      "text/plain": [
       "<IPython.core.display.HTML object>"
      ]
     },
     "metadata": {},
     "output_type": "display_data"
    }
   ],
   "source": [
    "import boto3\n",
    "import numpy                 as np\n",
    "import pandas                as pd\n",
    "import matplotlib.pyplot     as plt\n",
    "from metrics                 import confusion_matrix_dataframe\n",
    "from sklearn.model_selection import train_test_split\n",
    "from sklearn.metrics         import balanced_accuracy_score, f1_score, confusion_matrix\n",
    "from keras                   import regularizers\n",
    "from keras.models            import Sequential\n",
    "from keras.layers            import Dense, Flatten, Dropout\n",
    "from keras.layers            import Conv2D, MaxPooling2D, BatchNormalization\n",
    "from keras.utils             import np_utils\n",
    "from keras.callbacks         import EarlyStopping, ModelCheckpoint\n",
    "from IPython.core.display    import display, HTML\n",
    "display(HTML(\"<style>.container { width:95% !important; }</style>\"))\n",
    "%matplotlib inline\n",
    "\n",
    "# Declaring a random state for the modeling process\n",
    "\n",
    "np.random.seed(42)"
   ]
  },
  {
   "cell_type": "markdown",
   "metadata": {},
   "source": [
    "## Table Contents\n",
    "     \n",
    " \n",
    "- [Reading In The New Data](#Reading-In-The-New-Data)\n",
    "    - [Data Overview](#Data-Overview)\n",
    "    - [Mapping Labels](#Mapping-Labels)\n",
    "    \n",
    "    \n",
    "- [Preprocessing](#Preprocessing)\n",
    "    - [Declaring X and y](#Declaring-X-and-y)    \n",
    "    - [Train-Test Splitting The Data](#Train-Test-Splitting-The-Data)\n",
    "    - [Reshaping The Data](#Reshaping-The-Data)\n",
    "    \n",
    "    \n",
    "- [Modeling](#Modeling)\n",
    "    - [Setting Up The Neural Network](#Setting-Up-The-Neural-Network)\n",
    "    - [Compiling The Neural Network](#Compiling-The-Neural-Network)\n",
    "    - [Fitting The Training Data](#Fitting-The-Training-Data)\n",
    "    - [Generating Predictions](#Generating-Predictions)\n",
    " \n",
    " \n",
    "- [Evaluation](#Evaluation)"
   ]
  },
  {
   "cell_type": "markdown",
   "metadata": {},
   "source": [
    "## Reading In The Data"
   ]
  },
  {
   "cell_type": "code",
   "execution_count": 3,
   "metadata": {
    "scrolled": true
   },
   "outputs": [],
   "source": [
    "# Reading in my credentials\n",
    "\n",
    "with open(\"access_key\", \"r\") as key:\n",
    "    access_key = key.read()\n",
    "    \n",
    "with open(\"secret_key\", \"r\") as secret:\n",
    "    secret_access_key = secret.read()\n",
    "    \n",
    "# Declaring the client as an s3 bucket\n",
    "    \n",
    "client = boto3.client(\"s3\", \n",
    "                      aws_access_key_id     = access_key,\n",
    "                      aws_secret_access_key = secret_access_key)\n",
    "\n",
    "# Naming the bucket and file\n",
    "\n",
    "bucket_name = \"google-quick-draw\"\n",
    "object_key  = \"animals.csv\"\n",
    "\n",
    "# Creating a csv object\n",
    "\n",
    "csv_obj = client.get_object(Bucket = bucket_name, \n",
    "                            Key    = object_key)\n",
    "\n",
    "body = csv_obj[\"Body\"]\n",
    "\n",
    "# Reading in the data\n",
    "\n",
    "animals = pd.read_csv(body)"
   ]
  },
  {
   "cell_type": "markdown",
   "metadata": {},
   "source": [
    "### Data Overview"
   ]
  },
  {
   "cell_type": "code",
   "execution_count": 4,
   "metadata": {},
   "outputs": [
    {
     "data": {
      "text/plain": [
       "(410123, 785)"
      ]
     },
     "execution_count": 4,
     "metadata": {},
     "output_type": "execute_result"
    }
   ],
   "source": [
    "# Checking the dimensions of the dataframe\n",
    "\n",
    "animals.shape"
   ]
  },
  {
   "cell_type": "code",
   "execution_count": 5,
   "metadata": {},
   "outputs": [
    {
     "data": {
      "text/html": [
       "<div>\n",
       "<style scoped>\n",
       "    .dataframe tbody tr th:only-of-type {\n",
       "        vertical-align: middle;\n",
       "    }\n",
       "\n",
       "    .dataframe tbody tr th {\n",
       "        vertical-align: top;\n",
       "    }\n",
       "\n",
       "    .dataframe thead th {\n",
       "        text-align: right;\n",
       "    }\n",
       "</style>\n",
       "<table border=\"1\" class=\"dataframe\">\n",
       "  <thead>\n",
       "    <tr style=\"text-align: right;\">\n",
       "      <th></th>\n",
       "      <th>label</th>\n",
       "      <th>0</th>\n",
       "      <th>1</th>\n",
       "      <th>2</th>\n",
       "      <th>3</th>\n",
       "      <th>4</th>\n",
       "      <th>5</th>\n",
       "      <th>6</th>\n",
       "      <th>7</th>\n",
       "      <th>8</th>\n",
       "      <th>...</th>\n",
       "      <th>774</th>\n",
       "      <th>775</th>\n",
       "      <th>776</th>\n",
       "      <th>777</th>\n",
       "      <th>778</th>\n",
       "      <th>779</th>\n",
       "      <th>780</th>\n",
       "      <th>781</th>\n",
       "      <th>782</th>\n",
       "      <th>783</th>\n",
       "    </tr>\n",
       "  </thead>\n",
       "  <tbody>\n",
       "    <tr>\n",
       "      <th>0</th>\n",
       "      <td>bear</td>\n",
       "      <td>0</td>\n",
       "      <td>0</td>\n",
       "      <td>0</td>\n",
       "      <td>0</td>\n",
       "      <td>0</td>\n",
       "      <td>0</td>\n",
       "      <td>0</td>\n",
       "      <td>0</td>\n",
       "      <td>0</td>\n",
       "      <td>...</td>\n",
       "      <td>0</td>\n",
       "      <td>0</td>\n",
       "      <td>0</td>\n",
       "      <td>0</td>\n",
       "      <td>0</td>\n",
       "      <td>0</td>\n",
       "      <td>0</td>\n",
       "      <td>0</td>\n",
       "      <td>0</td>\n",
       "      <td>0</td>\n",
       "    </tr>\n",
       "    <tr>\n",
       "      <th>1</th>\n",
       "      <td>bear</td>\n",
       "      <td>0</td>\n",
       "      <td>0</td>\n",
       "      <td>0</td>\n",
       "      <td>0</td>\n",
       "      <td>0</td>\n",
       "      <td>0</td>\n",
       "      <td>0</td>\n",
       "      <td>0</td>\n",
       "      <td>0</td>\n",
       "      <td>...</td>\n",
       "      <td>0</td>\n",
       "      <td>0</td>\n",
       "      <td>0</td>\n",
       "      <td>0</td>\n",
       "      <td>0</td>\n",
       "      <td>0</td>\n",
       "      <td>0</td>\n",
       "      <td>0</td>\n",
       "      <td>0</td>\n",
       "      <td>0</td>\n",
       "    </tr>\n",
       "    <tr>\n",
       "      <th>2</th>\n",
       "      <td>bear</td>\n",
       "      <td>0</td>\n",
       "      <td>0</td>\n",
       "      <td>0</td>\n",
       "      <td>0</td>\n",
       "      <td>0</td>\n",
       "      <td>0</td>\n",
       "      <td>0</td>\n",
       "      <td>0</td>\n",
       "      <td>0</td>\n",
       "      <td>...</td>\n",
       "      <td>0</td>\n",
       "      <td>0</td>\n",
       "      <td>0</td>\n",
       "      <td>0</td>\n",
       "      <td>0</td>\n",
       "      <td>0</td>\n",
       "      <td>0</td>\n",
       "      <td>0</td>\n",
       "      <td>0</td>\n",
       "      <td>0</td>\n",
       "    </tr>\n",
       "    <tr>\n",
       "      <th>3</th>\n",
       "      <td>bear</td>\n",
       "      <td>0</td>\n",
       "      <td>0</td>\n",
       "      <td>0</td>\n",
       "      <td>0</td>\n",
       "      <td>0</td>\n",
       "      <td>0</td>\n",
       "      <td>0</td>\n",
       "      <td>0</td>\n",
       "      <td>0</td>\n",
       "      <td>...</td>\n",
       "      <td>0</td>\n",
       "      <td>0</td>\n",
       "      <td>0</td>\n",
       "      <td>0</td>\n",
       "      <td>0</td>\n",
       "      <td>0</td>\n",
       "      <td>0</td>\n",
       "      <td>0</td>\n",
       "      <td>0</td>\n",
       "      <td>0</td>\n",
       "    </tr>\n",
       "    <tr>\n",
       "      <th>4</th>\n",
       "      <td>bear</td>\n",
       "      <td>0</td>\n",
       "      <td>0</td>\n",
       "      <td>0</td>\n",
       "      <td>0</td>\n",
       "      <td>0</td>\n",
       "      <td>0</td>\n",
       "      <td>0</td>\n",
       "      <td>0</td>\n",
       "      <td>0</td>\n",
       "      <td>...</td>\n",
       "      <td>0</td>\n",
       "      <td>0</td>\n",
       "      <td>0</td>\n",
       "      <td>0</td>\n",
       "      <td>0</td>\n",
       "      <td>0</td>\n",
       "      <td>0</td>\n",
       "      <td>0</td>\n",
       "      <td>0</td>\n",
       "      <td>0</td>\n",
       "    </tr>\n",
       "  </tbody>\n",
       "</table>\n",
       "<p>5 rows × 785 columns</p>\n",
       "</div>"
      ],
      "text/plain": [
       "  label  0  1  2  3  4  5  6  7  8  ...  774  775  776  777  778  779  780  \\\n",
       "0  bear  0  0  0  0  0  0  0  0  0  ...    0    0    0    0    0    0    0   \n",
       "1  bear  0  0  0  0  0  0  0  0  0  ...    0    0    0    0    0    0    0   \n",
       "2  bear  0  0  0  0  0  0  0  0  0  ...    0    0    0    0    0    0    0   \n",
       "3  bear  0  0  0  0  0  0  0  0  0  ...    0    0    0    0    0    0    0   \n",
       "4  bear  0  0  0  0  0  0  0  0  0  ...    0    0    0    0    0    0    0   \n",
       "\n",
       "   781  782  783  \n",
       "0    0    0    0  \n",
       "1    0    0    0  \n",
       "2    0    0    0  \n",
       "3    0    0    0  \n",
       "4    0    0    0  \n",
       "\n",
       "[5 rows x 785 columns]"
      ]
     },
     "execution_count": 5,
     "metadata": {},
     "output_type": "execute_result"
    }
   ],
   "source": [
    "# Looking at the head five rows\n",
    "\n",
    "animals.head()"
   ]
  },
  {
   "cell_type": "code",
   "execution_count": 6,
   "metadata": {},
   "outputs": [
    {
     "name": "stdout",
     "output_type": "stream",
     "text": [
      "<class 'pandas.core.frame.DataFrame'>\n",
      "RangeIndex: 410123 entries, 0 to 410122\n",
      "Columns: 785 entries, label to 783\n",
      "dtypes: int64(784), object(1)\n",
      "memory usage: 2.4+ GB\n"
     ]
    }
   ],
   "source": [
    "animals.info()"
   ]
  },
  {
   "cell_type": "code",
   "execution_count": 7,
   "metadata": {},
   "outputs": [
    {
     "data": {
      "text/plain": [
       "0"
      ]
     },
     "execution_count": 7,
     "metadata": {},
     "output_type": "execute_result"
    }
   ],
   "source": [
    "# Looking for null values\n",
    "\n",
    "animals.isnull().sum().sum()"
   ]
  },
  {
   "cell_type": "markdown",
   "metadata": {},
   "source": [
    "### Mapping Labels"
   ]
  },
  {
   "cell_type": "code",
   "execution_count": 8,
   "metadata": {},
   "outputs": [
    {
     "data": {
      "text/plain": [
       "dtype('int64')"
      ]
     },
     "execution_count": 8,
     "metadata": {},
     "output_type": "execute_result"
    }
   ],
   "source": [
    "animals[\"label\"].replace(to_replace = {\"bear\": 0,\n",
    "                                       \"cat\" : 1,\n",
    "                                       \"dog\" : 2},\n",
    "                         inplace    = True)\n",
    "\n",
    "# Making sure the labels are integers\n",
    "\n",
    "animals[\"label\"].dtype"
   ]
  },
  {
   "cell_type": "markdown",
   "metadata": {},
   "source": [
    "## Preprocessing"
   ]
  },
  {
   "cell_type": "markdown",
   "metadata": {},
   "source": [
    "### Declaring X and y"
   ]
  },
  {
   "cell_type": "code",
   "execution_count": 9,
   "metadata": {},
   "outputs": [],
   "source": [
    "# X variable\n",
    "\n",
    "X = np.array(animals.drop(columns = \"label\")) \n",
    "\n",
    "# y variable\n",
    "\n",
    "y = animals[\"label\"].values"
   ]
  },
  {
   "cell_type": "markdown",
   "metadata": {},
   "source": [
    "### Train-Test Splitting The Data"
   ]
  },
  {
   "cell_type": "code",
   "execution_count": 10,
   "metadata": {},
   "outputs": [],
   "source": [
    "X_train, X_test, y_train, y_test = train_test_split(X, \n",
    "                                                    y, \n",
    "                                                    random_state = 42, \n",
    "                                                    test_size    = 0.3)\n",
    "\n",
    "# Keeping copies of the original labels\n",
    "\n",
    "y_train_org = y_train\n",
    "\n",
    "y_test_org  = y_test"
   ]
  },
  {
   "cell_type": "code",
   "execution_count": 11,
   "metadata": {},
   "outputs": [],
   "source": [
    "# Scaling each X value\n",
    "\n",
    "X_train = X_train.astype(float)\n",
    "X_train /= 255\n",
    "\n",
    "X_test  = X_test.astype(float)\n",
    "X_test  /= 255\n",
    "\n",
    "# Making sure the y variables are categorical\n",
    "\n",
    "y_train = np_utils.to_categorical(y_train, 3)\n",
    "\n",
    "y_test  = np_utils.to_categorical(y_test, 3)"
   ]
  },
  {
   "cell_type": "markdown",
   "metadata": {},
   "source": [
    "### Reshaping The Data"
   ]
  },
  {
   "cell_type": "code",
   "execution_count": 12,
   "metadata": {},
   "outputs": [
    {
     "name": "stdout",
     "output_type": "stream",
     "text": [
      "X_train's data type is <class 'numpy.ndarray'>\n",
      "X_test's data type is <class 'numpy.ndarray'>\n"
     ]
    }
   ],
   "source": [
    "X_train = X_train.reshape(X_train.shape[0], 28, 28, 1)\n",
    "\n",
    "X_test  = X_test.reshape(X_test.shape[0], 28, 28, 1)\n",
    "\n",
    "# Checking the data type of the train and test sets\n",
    "\n",
    "print(f\"X_train's data type is {type(X_train)}\")\n",
    "\n",
    "print(f\"X_test's data type is {type(X_test)}\")"
   ]
  },
  {
   "cell_type": "markdown",
   "metadata": {},
   "source": [
    "## Modeling"
   ]
  },
  {
   "cell_type": "markdown",
   "metadata": {},
   "source": [
    "### Setting Up The Neural Network"
   ]
  },
  {
   "cell_type": "markdown",
   "metadata": {},
   "source": [
    "#### Instantiating The Model"
   ]
  },
  {
   "cell_type": "code",
   "execution_count": 32,
   "metadata": {},
   "outputs": [],
   "source": [
    "cnn = Sequential()"
   ]
  },
  {
   "cell_type": "markdown",
   "metadata": {},
   "source": [
    "#### Adding Layers"
   ]
  },
  {
   "cell_type": "code",
   "execution_count": 33,
   "metadata": {},
   "outputs": [],
   "source": [
    "# Convolutional layers\n",
    "\n",
    "# The first convolutional layer\n",
    "\n",
    "cnn.add(Conv2D(filters     = 6,\n",
    "               kernel_size = 3,\n",
    "               activation  = \"relu\",\n",
    "               input_shape = (28,28,1)))\n",
    "\n",
    "# The first maxpooling layer\n",
    "\n",
    "cnn.add(MaxPooling2D(pool_size = (2,2)))\n",
    "\n",
    "# The second convolutional layer\n",
    "\n",
    "cnn.add(Conv2D(128,\n",
    "               kernel_size = 3,\n",
    "               activation  = \"relu\"))\n",
    "\n",
    "# The second maxpooling layer\n",
    "\n",
    "cnn.add(MaxPooling2D(pool_size = (2,2)))\n"
   ]
  },
  {
   "cell_type": "code",
   "execution_count": 34,
   "metadata": {},
   "outputs": [],
   "source": [
    "# Dense layers\n",
    "\n",
    "# Flattening the data\n",
    "\n",
    "cnn.add(Flatten())\n",
    "\n",
    "# Adding the first dense layer\n",
    "\n",
    "cnn.add(Dense(128,\n",
    "              activation         = \"relu\",\n",
    "              kernel_regularizer = regularizers.l2(0.001)))\n",
    "\n",
    "# Adding batch normalization\n",
    "\n",
    "cnn.add(BatchNormalization())\n",
    "\n",
    "# Adding the first dropout\n",
    "\n",
    "cnn.add(Dropout(rate = 0.2))\n",
    "\n",
    "# Adding the second dense layer\n",
    "\n",
    "cnn.add(Dense(64,\n",
    "              activation         = \"relu\",\n",
    "              kernel_regularizer = regularizers.l2(0.001)))\n",
    "\n",
    "# Adding batch normalization\n",
    "\n",
    "cnn.add(BatchNormalization())\n",
    "                \n",
    "# Adding second dropout\n",
    "\n",
    "cnn.add(Dropout(rate = 0.2))\n",
    "\n",
    "# Adding the ouput layer\n",
    "\n",
    "cnn.add(Dense(3,\n",
    "              activation = \"softmax\"))"
   ]
  },
  {
   "cell_type": "markdown",
   "metadata": {},
   "source": [
    "### Compiling The Neural Network"
   ]
  },
  {
   "cell_type": "code",
   "execution_count": 35,
   "metadata": {},
   "outputs": [],
   "source": [
    "cnn.compile(loss      = \"categorical_crossentropy\",\n",
    "            optimizer = \"adam\",\n",
    "            metrics   = [\"acc\"])"
   ]
  },
  {
   "cell_type": "markdown",
   "metadata": {},
   "source": [
    "### Fitting The Training Data"
   ]
  },
  {
   "cell_type": "code",
   "execution_count": 36,
   "metadata": {},
   "outputs": [],
   "source": [
    "callback = [EarlyStopping(monitor  = 'val_loss', \n",
    "                          patience = 1,\n",
    "                          verbose  = 0)]"
   ]
  },
  {
   "cell_type": "code",
   "execution_count": 37,
   "metadata": {},
   "outputs": [
    {
     "data": {
      "text/plain": [
       "<keras.callbacks.History at 0x7f6b84215ac8>"
      ]
     },
     "execution_count": 37,
     "metadata": {},
     "output_type": "execute_result"
    }
   ],
   "source": [
    "cnn.fit(X_train,\n",
    "        y_train,\n",
    "        callbacks       = callback,\n",
    "        validation_data = (X_train, y_train),\n",
    "        batch_size      = 256,\n",
    "        epochs          = 25,\n",
    "        verbose         = 0)"
   ]
  },
  {
   "cell_type": "code",
   "execution_count": 38,
   "metadata": {},
   "outputs": [],
   "source": [
    "# Training predictions\n",
    "\n",
    "train_preds = cnn.predict_classes(X_train,\n",
    "                                  batch_size = 100,\n",
    "                                  verbose    = 0).ravel()\n",
    "\n",
    "# Test predictions\n",
    "\n",
    "test_preds = cnn.predict_classes(X_test,\n",
    "                                 batch_size = 100,\n",
    "                                 verbose    = 0).ravel()"
   ]
  },
  {
   "cell_type": "code",
   "execution_count": 39,
   "metadata": {},
   "outputs": [
    {
     "name": "stdout",
     "output_type": "stream",
     "text": [
      "The training balanced accuracy is: 0.8505920368991462\n",
      "The training recall score is     : 0.8509005250885253\n"
     ]
    }
   ],
   "source": [
    "print(f\"The training balanced accuracy is: {balanced_accuracy_score(y_train_org, train_preds)}\")\n",
    "print(f'The training recall score is     : {f1_score(y_train_org, train_preds, average = \"macro\")}')"
   ]
  },
  {
   "cell_type": "code",
   "execution_count": 40,
   "metadata": {},
   "outputs": [
    {
     "name": "stdout",
     "output_type": "stream",
     "text": [
      "The test balanced accuracy is: 0.8419759522386387\n",
      "The test recall score is     : 0.8425191048875815\n"
     ]
    }
   ],
   "source": [
    "print(f\"The test balanced accuracy is: {balanced_accuracy_score(y_test_org, test_preds)}\")\n",
    "print(f'The test recall score is     : {f1_score(y_test_org, test_preds, average = \"macro\")}')"
   ]
  },
  {
   "cell_type": "code",
   "execution_count": 41,
   "metadata": {},
   "outputs": [
    {
     "data": {
      "text/html": [
       "<div>\n",
       "<style scoped>\n",
       "    .dataframe tbody tr th:only-of-type {\n",
       "        vertical-align: middle;\n",
       "    }\n",
       "\n",
       "    .dataframe tbody tr th {\n",
       "        vertical-align: top;\n",
       "    }\n",
       "\n",
       "    .dataframe thead th {\n",
       "        text-align: right;\n",
       "    }\n",
       "</style>\n",
       "<table border=\"1\" class=\"dataframe\">\n",
       "  <thead>\n",
       "    <tr style=\"text-align: right;\">\n",
       "      <th></th>\n",
       "      <th>Bear</th>\n",
       "      <th>Cat</th>\n",
       "      <th>Dog</th>\n",
       "    </tr>\n",
       "  </thead>\n",
       "  <tbody>\n",
       "    <tr>\n",
       "      <th>Bear</th>\n",
       "      <td>81337</td>\n",
       "      <td>4179</td>\n",
       "      <td>8889</td>\n",
       "    </tr>\n",
       "    <tr>\n",
       "      <th>Cat</th>\n",
       "      <td>2804</td>\n",
       "      <td>73768</td>\n",
       "      <td>9433</td>\n",
       "    </tr>\n",
       "    <tr>\n",
       "      <th>Dog</th>\n",
       "      <td>11123</td>\n",
       "      <td>6747</td>\n",
       "      <td>88806</td>\n",
       "    </tr>\n",
       "  </tbody>\n",
       "</table>\n",
       "</div>"
      ],
      "text/plain": [
       "       Bear    Cat    Dog\n",
       "Bear  81337   4179   8889\n",
       "Cat    2804  73768   9433\n",
       "Dog   11123   6747  88806"
      ]
     },
     "execution_count": 41,
     "metadata": {},
     "output_type": "execute_result"
    }
   ],
   "source": [
    "confusion_matrix_dataframe(y_train_org,\n",
    "                           train_preds,\n",
    "                           columns = [\"Bear\", \"Cat\", \"Dog\"],\n",
    "                           index   = [\"Bear\", \"Cat\", \"Dog\"])"
   ]
  },
  {
   "cell_type": "markdown",
   "metadata": {},
   "source": [
    "[Top](#Table-Of-Contents)"
   ]
  }
 ],
 "metadata": {
  "kernelspec": {
   "display_name": "conda_tensorflow_p36",
   "language": "python",
   "name": "conda_tensorflow_p36"
  },
  "language_info": {
   "codemirror_mode": {
    "name": "ipython",
    "version": 3
   },
   "file_extension": ".py",
   "mimetype": "text/x-python",
   "name": "python",
   "nbconvert_exporter": "python",
   "pygments_lexer": "ipython3",
   "version": "3.6.5"
  }
 },
 "nbformat": 4,
 "nbformat_minor": 2
}
