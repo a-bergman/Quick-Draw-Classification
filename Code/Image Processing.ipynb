{
 "cells": [
  {
   "cell_type": "markdown",
   "metadata": {},
   "source": [
    "## Imports"
   ]
  },
  {
   "cell_type": "code",
   "execution_count": null,
   "metadata": {},
   "outputs": [],
   "source": [
    "import numpy                 as np\n",
    "import pandas                as pd\n",
    "import matplotlib.pyplot     as plt\n",
    "import seaborn               as sns\n",
    "from PIL                     import Image\n",
    "from graphs                  import barplots, countplots\n",
    "from IPython.core.display    import display, HTML\n",
    "display(HTML(\"<style>.container { width:95% !important; }</style>\"))\n",
    "%matplotlib inline"
   ]
  },
  {
   "cell_type": "markdown",
   "metadata": {},
   "source": [
    "## Table Of Contents\n",
    "\n",
    "- [Reading In The Data](#Reading-In-The-Data)\n",
    "    - [Simplified Data](#Simplified-Data)\n",
    "    - [Raw Data](#Raw-Data)\n",
    "\n",
    "\n",
    "- [Overview Of The Data](#Overview-Of-The-Data)\n",
    "    - [Checking For Null Values](#Checking-For-Null-Values)\n",
    "    - [Data Types](#Data-Types)\n",
    "    - [Dataframe Info](#Dataframe-Info)\n",
    " \n",
    " \n",
    "- [Data Visualizations](#Data-Visualizations)\n",
    "\n",
    "    - [Words](#Words)\n",
    "    - [Countries](#Countries)\n",
    "    - [Was The Image Recognized?](#Was-The-Image-Recognized?)\n",
    "    - [Date & Time Information](#Date-&-Time-Information)\n",
    "        - [Year](#Year)\n",
    "        - [Month](#Month)\n",
    "        - [Day](#Day)\n",
    "        - [Hour](#Hour)\n",
    "        \n",
    "        \n",
    "- [Image-Processing](#Image-Processing)\n",
    "     - [Sample Images](#Sample-Images)\n",
    "     - [Creating A Dataframe From The Simplified Data](#Creating-A-Dataframe-From-The-Simplified-Data)\n",
    "     - [Saving A New Dataframe](#Saving-A-New-Dataframe)"
   ]
  },
  {
   "cell_type": "markdown",
   "metadata": {},
   "source": [
    "## Reading In The Data"
   ]
  },
  {
   "cell_type": "markdown",
   "metadata": {},
   "source": [
    "Google offers various sets of their Quick, Draw! data.  The version we decided to work with was their simplified, formatted data which is a .npy file of 1D arrays which were extracted from the raw data.  However, those data files _only_ have the image whereas the raw data has other information about the drawings.\n",
    "\n",
    "We were interested in the other data associated with each image so we decided get the raw data as well."
   ]
  },
  {
   "cell_type": "markdown",
   "metadata": {},
   "source": [
    "### Simplified Data"
   ]
  },
  {
   "cell_type": "code",
   "execution_count": null,
   "metadata": {},
   "outputs": [],
   "source": [
    "bear_raw = np.load(\"../Data/full_numpy_bitmap_bear.npy\")\n",
    "dog_raw  = np.load(\"../Data/full_numpy_bitmap_dog.npy\")\n",
    "cat_raw  = np.load(\"../Data/full_numpy_bitmap_cat.npy\")"
   ]
  },
  {
   "cell_type": "markdown",
   "metadata": {},
   "source": [
    "### Raw Data"
   ]
  },
  {
   "cell_type": "code",
   "execution_count": null,
   "metadata": {},
   "outputs": [],
   "source": [
    "bear_full = pd.read_json(\"../Data/full_raw_bear.ndjson\", lines = True)\n",
    "dog_full  = pd.read_json(\"../Data/full_raw_dog.ndjson\", lines = True)\n",
    "cat_full  = pd.read_json(\"../Data/full_raw_cat.ndjson\", lines = True)"
   ]
  },
  {
   "cell_type": "markdown",
   "metadata": {},
   "source": [
    "To make working with the raw data easier, we decided to concatenate all three of the files together."
   ]
  },
  {
   "cell_type": "code",
   "execution_count": null,
   "metadata": {},
   "outputs": [],
   "source": [
    "bcd = pd.concat(objs = [bear_full, cat_full, dog_full],\n",
    "                axis = 0)"
   ]
  },
  {
   "cell_type": "code",
   "execution_count": null,
   "metadata": {},
   "outputs": [],
   "source": [
    "# Making sure the conatenation produced what we expected\n",
    "\n",
    "bcd.shape"
   ]
  },
  {
   "cell_type": "markdown",
   "metadata": {},
   "source": [
    "## Overview Of The Data"
   ]
  },
  {
   "cell_type": "markdown",
   "metadata": {},
   "source": [
    "### Checking For Null Values"
   ]
  },
  {
   "cell_type": "code",
   "execution_count": null,
   "metadata": {},
   "outputs": [],
   "source": [
    "bcd.isnull().sum()"
   ]
  },
  {
   "cell_type": "markdown",
   "metadata": {},
   "source": [
    "### Data Types"
   ]
  },
  {
   "cell_type": "code",
   "execution_count": null,
   "metadata": {},
   "outputs": [],
   "source": [
    "bcd.dtypes"
   ]
  },
  {
   "cell_type": "markdown",
   "metadata": {},
   "source": [
    "### Dataframe Info"
   ]
  },
  {
   "cell_type": "code",
   "execution_count": null,
   "metadata": {},
   "outputs": [],
   "source": [
    "bcd.info()"
   ]
  },
  {
   "cell_type": "markdown",
   "metadata": {},
   "source": [
    "## Data Visualizations"
   ]
  },
  {
   "cell_type": "markdown",
   "metadata": {},
   "source": [
    "### Words"
   ]
  },
  {
   "cell_type": "code",
   "execution_count": null,
   "metadata": {},
   "outputs": [],
   "source": [
    "countplots(df      = bcd,\n",
    "           columns = [\"word\"],\n",
    "           titles  = [\"Word Count\"],\n",
    "           labels  = [\"Word\"],\n",
    "           ylabel  = \"Occurences\",\n",
    "           dim     = (12,6),\n",
    "           row     = 1,\n",
    "           col     = 1)"
   ]
  },
  {
   "cell_type": "markdown",
   "metadata": {},
   "source": [
    "### Country Code"
   ]
  },
  {
   "cell_type": "code",
   "execution_count": null,
   "metadata": {},
   "outputs": [],
   "source": [
    "freq      = [175686, 28977, 14660, 13108, 9477, 9312, 7943, 7154, 6893, 6871]\n",
    "countries = [\"US\", \"GB\", \"CA\", \"DE\", \"RU\", \"AU\", \"BR\", \"FI\", \"CZ\", \"SE\"]\n",
    "a = pd.DataFrame(data = [countries, freq]).T\n",
    "a.rename(columns = {0: \"Country\", 1: \"Frequency\"}, inplace = True);"
   ]
  },
  {
   "cell_type": "code",
   "execution_count": null,
   "metadata": {},
   "outputs": [],
   "source": [
    "barplots(df      = a,\n",
    "         columns = [\"Country\"],\n",
    "         y       = \"Frequency\",\n",
    "         labels  = [\"Country Code\"],\n",
    "         ylabel  = \"Frequency\",\n",
    "         titles  = [\"Most Frequent Countries\"],\n",
    "         dim     = (12,6),\n",
    "         row     = 1,\n",
    "         col     = 1)"
   ]
  },
  {
   "cell_type": "markdown",
   "metadata": {},
   "source": [
    "### Was The Image Recognized?"
   ]
  },
  {
   "cell_type": "code",
   "execution_count": null,
   "metadata": {},
   "outputs": [],
   "source": [
    "countplots(df      = bcd,\n",
    "           columns = [\"recognized\"],\n",
    "           titles  = [\"Recognition\"],\n",
    "           labels  = [\"Status\"],\n",
    "           ylabel  = \"Frequency\",\n",
    "           dim     = (12,6),\n",
    "           row     = 1,\n",
    "           col     = 1)"
   ]
  },
  {
   "cell_type": "markdown",
   "metadata": {},
   "source": [
    "### Date & Time Information"
   ]
  },
  {
   "cell_type": "markdown",
   "metadata": {},
   "source": [
    "We saw above that the `timestamp` column is a datetime object which is good because we can extract information from it: in our case, we are interested in the day, month, year, & time.  To get that information, we will just create new columns."
   ]
  },
  {
   "cell_type": "code",
   "execution_count": null,
   "metadata": {},
   "outputs": [],
   "source": [
    "# Extracting the year\n",
    "\n",
    "bcd[\"year\"]  = bcd[\"timestamp\"].dt.year\n",
    "\n",
    "# Extracting the month\n",
    "\n",
    "bcd[\"month\"] = bcd[\"timestamp\"].dt.month\n",
    "\n",
    "# Extracting the day\n",
    "\n",
    "bcd[\"day\"] = bcd[\"timestamp\"].dt.dayofweek\n",
    "\n",
    "# Extracting the hour\n",
    "\n",
    "bcd[\"time\"] = bcd[\"timestamp\"].dt.hour"
   ]
  },
  {
   "cell_type": "code",
   "execution_count": null,
   "metadata": {},
   "outputs": [],
   "source": [
    "# Modifying the datetime data\n",
    "\n",
    "# Changing month values to strings\n",
    "\n",
    "bcd[\"month\"] = bcd[\"month\"].map({1: \"January\", 3: \"March\"})\n",
    "\n",
    "# Changing day values to strings\n",
    "\n",
    "bcd[\"day\"] = bcd[\"day\"].map({0: \"Mon.\", 1: \"Tue.\", 2: \"Wed.\", 3: \"Thu.\",\n",
    "                             4: \"Fri.\", 5: \"Sat.\", 6: \"Sun.\"})\n",
    "\n",
    "# Increasing the hour values to match a clock\n",
    "\n",
    "bcd[\"time\"] = bcd[\"time\"].apply(lambda x: x + 1) "
   ]
  },
  {
   "cell_type": "markdown",
   "metadata": {},
   "source": [
    "#### Year"
   ]
  },
  {
   "cell_type": "markdown",
   "metadata": {},
   "source": [
    "As it turns out, all of our data came from 2017."
   ]
  },
  {
   "cell_type": "code",
   "execution_count": null,
   "metadata": {},
   "outputs": [],
   "source": [
    "bcd[\"year\"].value_counts()"
   ]
  },
  {
   "cell_type": "markdown",
   "metadata": {},
   "source": [
    "#### Month"
   ]
  },
  {
   "cell_type": "code",
   "execution_count": null,
   "metadata": {},
   "outputs": [],
   "source": [
    "countplots(df = bcd,\n",
    "           columns = [\"month\"],\n",
    "           titles  = [\"Competition Months\"],\n",
    "           labels  = [\"Month\"],\n",
    "           ylabel  = \"Frequency\",\n",
    "           dim     = (12,6),\n",
    "           row     = 1,\n",
    "           col     = 1)"
   ]
  },
  {
   "cell_type": "markdown",
   "metadata": {},
   "source": [
    "#### Day"
   ]
  },
  {
   "cell_type": "code",
   "execution_count": null,
   "metadata": {},
   "outputs": [],
   "source": [
    "countplots(df = bcd,\n",
    "           columns = [\"day\"],\n",
    "           titles  = [\"Competition Day\"],\n",
    "           labels  = [\"Day Of The Week\"],\n",
    "           ylabel  = \"Frequency\",\n",
    "           dim     = (12,6),\n",
    "           row     = 1,\n",
    "           col     = 1)"
   ]
  },
  {
   "cell_type": "markdown",
   "metadata": {},
   "source": [
    "#### Hour"
   ]
  },
  {
   "cell_type": "code",
   "execution_count": null,
   "metadata": {},
   "outputs": [],
   "source": [
    "countplots(df = bcd,\n",
    "           columns = [\"time\"],\n",
    "           titles  = [\"Competition Hour\"],\n",
    "           labels  = [\"Hour\"],\n",
    "           ylabel  = \"Frequency\",\n",
    "           dim     = (12,6),\n",
    "           row     = 1,\n",
    "           col     = 1)"
   ]
  },
  {
   "cell_type": "markdown",
   "metadata": {},
   "source": [
    "## Image Processing"
   ]
  },
  {
   "cell_type": "markdown",
   "metadata": {},
   "source": [
    "### Sample Images"
   ]
  },
  {
   "cell_type": "markdown",
   "metadata": {},
   "source": [
    "The data we will be modeling are 1D numpy arrays that have been resized to 28x28 pixels and centered by Google."
   ]
  },
  {
   "cell_type": "markdown",
   "metadata": {},
   "source": [
    "#### Bear"
   ]
  },
  {
   "cell_type": "code",
   "execution_count": null,
   "metadata": {},
   "outputs": [],
   "source": [
    "bear_sample = bear_raw[5]\n",
    "bear_sample = bear_sample.reshape((28,28))\n",
    "Image.fromarray(bear_sample)"
   ]
  },
  {
   "cell_type": "markdown",
   "metadata": {},
   "source": [
    "#### Dog"
   ]
  },
  {
   "cell_type": "code",
   "execution_count": null,
   "metadata": {},
   "outputs": [],
   "source": [
    "dog_sample = dog_raw[5]\n",
    "dog_sample = dog_sample.reshape((28,28))\n",
    "Image.fromarray(dog_sample)"
   ]
  },
  {
   "cell_type": "markdown",
   "metadata": {},
   "source": [
    "#### Cat"
   ]
  },
  {
   "cell_type": "code",
   "execution_count": null,
   "metadata": {},
   "outputs": [],
   "source": [
    "cat_sample = cat_raw[5]\n",
    "cat_sample = cat_sample.reshape((28,28))\n",
    "Image.fromarray(cat_sample)"
   ]
  },
  {
   "cell_type": "markdown",
   "metadata": {},
   "source": [
    "### Creating A Dataframe From The Simplified Data"
   ]
  },
  {
   "cell_type": "markdown",
   "metadata": {},
   "source": [
    "We want to pass in the 1D image arrays we have into the neural network as a dataframe. In for us to do that, we will have to concatentate each of the three dataframes together and then format each array as a row in the dataframe."
   ]
  },
  {
   "cell_type": "markdown",
   "metadata": {},
   "source": [
    "#### Creating Individual Dataframes"
   ]
  },
  {
   "cell_type": "code",
   "execution_count": null,
   "metadata": {},
   "outputs": [],
   "source": [
    "# One for bears\n",
    "\n",
    "bears = pd.DataFrame(bear_raw)\n",
    "bears.insert(0, \"label\", \"bear\")\n",
    "\n",
    "# One for cats\n",
    "\n",
    "cats = pd.DataFrame(cat_raw)\n",
    "cats.insert(0, \"label\", \"cat\")\n",
    "\n",
    "# One for dogs\n",
    "\n",
    "dogs = pd.DataFrame(dog_raw)\n",
    "dogs.insert(0, \"label\", \"dog\")"
   ]
  },
  {
   "cell_type": "markdown",
   "metadata": {},
   "source": [
    "#### Concatenating Them Together"
   ]
  },
  {
   "cell_type": "code",
   "execution_count": null,
   "metadata": {},
   "outputs": [],
   "source": [
    "animals = pd.concat(objs = [bears, cats, dogs],\n",
    "                    axis = 0)"
   ]
  },
  {
   "cell_type": "markdown",
   "metadata": {},
   "source": [
    "### Saving A New Dataframe"
   ]
  },
  {
   "cell_type": "code",
   "execution_count": null,
   "metadata": {},
   "outputs": [],
   "source": [
    "animals.to_csv(\"../Data/animals.csv\", index = False)"
   ]
  },
  {
   "cell_type": "markdown",
   "metadata": {},
   "source": [
    "[Top](#Table-Of-Contents)"
   ]
  }
 ],
 "metadata": {
  "kernelspec": {
   "display_name": "Python 3",
   "language": "python",
   "name": "python3"
  },
  "language_info": {
   "codemirror_mode": {
    "name": "ipython",
    "version": 3
   },
   "file_extension": ".py",
   "mimetype": "text/x-python",
   "name": "python",
   "nbconvert_exporter": "python",
   "pygments_lexer": "ipython3",
   "version": "3.6.8"
  }
 },
 "nbformat": 4,
 "nbformat_minor": 2
}
